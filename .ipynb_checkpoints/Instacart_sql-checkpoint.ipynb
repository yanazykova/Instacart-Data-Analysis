{
 "cells": [
  {
   "cell_type": "markdown",
   "id": "a3942e0c-6bf8-4971-9600-12bbf76fd649",
   "metadata": {},
   "source": [
    "## SQL-Powered Analysis of Instacart Grocery Data\n",
    "\n",
    "In this section, I use SQL queries within a Python environment (via SQLite) to analyse customer behavior, product demand, and ordering patterns. This mirrors real-world reporting analyst workflows, where both SQL and Python are used for rapid insights.\n"
   ]
  },
  {
   "cell_type": "code",
   "execution_count": 23,
   "id": "0820766d-0c4b-4233-806f-55d49ec4208b",
   "metadata": {},
   "outputs": [
    {
     "data": {
      "text/plain": [
       "32434489"
      ]
     },
     "execution_count": 23,
     "metadata": {},
     "output_type": "execute_result"
    }
   ],
   "source": [
    "import sqlite3\n",
    "import pandas as pd\n",
    "\n",
    "# Connect to SQLite\n",
    "conn = sqlite3.connect('instacart.db')\n",
    "\n",
    "orders = pd.read_csv('orders.csv')\n",
    "order_products_prior = pd.read_csv('order_products__prior.csv')\n",
    "\n",
    "\n",
    "# Load data into SQL tables\n",
    "orders.to_sql('orders', conn, index=False, if_exists='replace')\n",
    "order_products_prior.to_sql('order_products_prior', conn, index=False, if_exists='replace')\n"
   ]
  },
  {
   "cell_type": "markdown",
   "id": "679882ce-c65e-451e-b1af-b5f8753587ce",
   "metadata": {},
   "source": [
    "### Total number of orders per day of the week"
   ]
  },
  {
   "cell_type": "code",
   "execution_count": 33,
   "id": "cfcc5adc-4e8e-4331-8d61-89467b6fd979",
   "metadata": {},
   "outputs": [
    {
     "name": "stdout",
     "output_type": "stream",
     "text": [
      "   order_dow  total_orders\n",
      "0          0        600905\n",
      "1          1        587478\n",
      "2          2        467260\n",
      "3          3        436972\n",
      "4          4        426339\n",
      "5          5        453368\n",
      "6          6        448761\n"
     ]
    }
   ],
   "source": [
    "query = \"SELECT order_dow, COUNT(*) AS total_orders FROM orders GROUP BY order_dow\"\n",
    "result = pd.read_sql_query(query, conn)\n",
    "print(result)\n",
    "# 0 represents Sunday, 6 - Saturday"
   ]
  },
  {
   "cell_type": "markdown",
   "id": "46892ba2-9fd3-4b90-9399-e1c3ceebcd76",
   "metadata": {},
   "source": [
    "### Analyse Orders by Hour (Peak Times)"
   ]
  },
  {
   "cell_type": "code",
   "execution_count": 25,
   "id": "543c344a-3736-43cf-bc3d-ea52ef9557a8",
   "metadata": {},
   "outputs": [
    {
     "name": "stdout",
     "output_type": "stream",
     "text": [
      "    order_hour_of_day  total_orders\n",
      "0                   0         22758\n",
      "1                   1         12398\n",
      "2                   2          7539\n",
      "3                   3          5474\n",
      "4                   4          5527\n",
      "5                   5          9569\n",
      "6                   6         30529\n",
      "7                   7         91868\n",
      "8                   8        178201\n",
      "9                   9        257812\n",
      "10                 10        288418\n",
      "11                 11        284728\n",
      "12                 12        272841\n",
      "13                 13        277999\n",
      "14                 14        283042\n",
      "15                 15        283639\n",
      "16                 16        272553\n",
      "17                 17        228795\n",
      "18                 18        182912\n",
      "19                 19        140569\n",
      "20                 20        104292\n",
      "21                 21         78109\n",
      "22                 22         61468\n",
      "23                 23         40043\n"
     ]
    }
   ],
   "source": [
    "query = \"\"\"\n",
    "SELECT order_hour_of_day, COUNT(*) AS total_orders\n",
    "FROM orders\n",
    "GROUP BY order_hour_of_day\n",
    "ORDER BY order_hour_of_day\n",
    "\"\"\"\n",
    "result = pd.read_sql_query(query, conn)\n",
    "print(result)"
   ]
  },
  {
   "cell_type": "markdown",
   "id": "2256b1d7-438d-48a0-b5c5-4ad9c3d977ba",
   "metadata": {},
   "source": [
    "### Top 10 Most Ordered Products (Product Demand)"
   ]
  },
  {
   "cell_type": "code",
   "execution_count": 26,
   "id": "4477cff5-bfa2-4574-b1b3-17a05f4aecd9",
   "metadata": {},
   "outputs": [
    {
     "name": "stdout",
     "output_type": "stream",
     "text": [
      "             product_name  times_ordered\n",
      "0                  Banana         472565\n",
      "1  Bag of Organic Bananas         379450\n",
      "2    Organic Strawberries         264683\n",
      "3    Organic Baby Spinach         241921\n",
      "4    Organic Hass Avocado         213584\n",
      "5         Organic Avocado         176815\n",
      "6             Large Lemon         152657\n",
      "7            Strawberries         142951\n",
      "8                   Limes         140627\n",
      "9      Organic Whole Milk         137905\n"
     ]
    }
   ],
   "source": [
    "# You need to load products data too if not done yet\n",
    "products = pd.read_csv('products.csv')\n",
    "products.to_sql('products', conn, index=False, if_exists='replace')\n",
    "\n",
    "query = \"\"\"\n",
    "SELECT p.product_name, COUNT(*) AS times_ordered\n",
    "FROM order_products_prior op\n",
    "JOIN products p ON op.product_id = p.product_id\n",
    "GROUP BY p.product_name\n",
    "ORDER BY times_ordered DESC\n",
    "LIMIT 10\n",
    "\"\"\"\n",
    "result = pd.read_sql_query(query, conn)\n",
    "print(result)\n"
   ]
  },
  {
   "cell_type": "markdown",
   "id": "4c6f12b6-ace9-442d-861e-ebc94d120700",
   "metadata": {},
   "source": [
    "### Reorder Rate Analysis (Customer Behavior)"
   ]
  },
  {
   "cell_type": "code",
   "execution_count": 27,
   "id": "1ffaca50-98e9-4f66-a990-5a821529190e",
   "metadata": {},
   "outputs": [
    {
     "name": "stdout",
     "output_type": "stream",
     "text": [
      "   reordered     total\n",
      "0          0  13307953\n",
      "1          1  19126536\n"
     ]
    }
   ],
   "source": [
    "query = \"\"\"\n",
    "SELECT reordered, COUNT(*) AS total\n",
    "FROM order_products_prior\n",
    "GROUP BY reordered\n",
    "\"\"\"\n",
    "result = pd.read_sql_query(query, conn)\n",
    "print(result)\n",
    "# Where:\n",
    "\n",
    "# reordered = 1 → Product was reordered\n",
    "\n",
    "# reordered = 0 → Product was purchased for the first time\n",
    "\n",
    "# This shows loyalty or product popularity patterns. "
   ]
  },
  {
   "cell_type": "markdown",
   "id": "380e3530-24ce-4547-9ec6-2b741978121d",
   "metadata": {},
   "source": [
    "### Orders Per Day of Week (Trend Insight)"
   ]
  },
  {
   "cell_type": "code",
   "execution_count": 28,
   "id": "f7cf5c42-73cc-4658-a0cf-c376dc3457bb",
   "metadata": {},
   "outputs": [
    {
     "name": "stdout",
     "output_type": "stream",
     "text": [
      "   order_dow  total_orders\n",
      "0          0        600905\n",
      "1          1        587478\n",
      "2          2        467260\n",
      "3          3        436972\n",
      "4          4        426339\n",
      "5          5        453368\n",
      "6          6        448761\n"
     ]
    }
   ],
   "source": [
    "query = \"\"\"\n",
    "SELECT order_dow, COUNT(*) AS total_orders\n",
    "FROM orders\n",
    "GROUP BY order_dow\n",
    "ORDER BY order_dow\n",
    "\"\"\"\n",
    "result = pd.read_sql_query(query, conn)\n",
    "print(result)\n",
    "#  Why it matters: Shows peak shopping days for operations planning.\n"
   ]
  },
  {
   "cell_type": "markdown",
   "id": "2e062ca2-479b-4669-9540-99c38a4d6cd7",
   "metadata": {},
   "source": [
    "### Orders Per Hour of Day (Peak Hours)"
   ]
  },
  {
   "cell_type": "code",
   "execution_count": 29,
   "id": "d583582e-75df-4f16-99ef-b0037e6619e2",
   "metadata": {},
   "outputs": [
    {
     "name": "stdout",
     "output_type": "stream",
     "text": [
      "    order_hour_of_day  total_orders\n",
      "0                   0         22758\n",
      "1                   1         12398\n",
      "2                   2          7539\n",
      "3                   3          5474\n",
      "4                   4          5527\n",
      "5                   5          9569\n",
      "6                   6         30529\n",
      "7                   7         91868\n",
      "8                   8        178201\n",
      "9                   9        257812\n",
      "10                 10        288418\n",
      "11                 11        284728\n",
      "12                 12        272841\n",
      "13                 13        277999\n",
      "14                 14        283042\n",
      "15                 15        283639\n",
      "16                 16        272553\n",
      "17                 17        228795\n",
      "18                 18        182912\n",
      "19                 19        140569\n",
      "20                 20        104292\n",
      "21                 21         78109\n",
      "22                 22         61468\n",
      "23                 23         40043\n"
     ]
    }
   ],
   "source": [
    "query = \"\"\"\n",
    "SELECT order_hour_of_day, COUNT(*) AS total_orders\n",
    "FROM orders\n",
    "GROUP BY order_hour_of_day\n",
    "ORDER BY order_hour_of_day\n",
    "\"\"\"\n",
    "result = pd.read_sql_query(query, conn)\n",
    "print(result)\n",
    "# Identify peak ordering windows for staffing, logistics."
   ]
  },
  {
   "cell_type": "markdown",
   "id": "8dbe690b-b0d1-4aaf-a91a-6cf9e78711cc",
   "metadata": {},
   "source": [
    "### Top 10 Most Ordered Products (SKU Demand)"
   ]
  },
  {
   "cell_type": "code",
   "execution_count": 30,
   "id": "7e922a44-4e6a-4a47-a015-4b7453295624",
   "metadata": {},
   "outputs": [
    {
     "name": "stdout",
     "output_type": "stream",
     "text": [
      "             product_name  times_ordered\n",
      "0                  Banana         472565\n",
      "1  Bag of Organic Bananas         379450\n",
      "2    Organic Strawberries         264683\n",
      "3    Organic Baby Spinach         241921\n",
      "4    Organic Hass Avocado         213584\n",
      "5         Organic Avocado         176815\n",
      "6             Large Lemon         152657\n",
      "7            Strawberries         142951\n",
      "8                   Limes         140627\n",
      "9      Organic Whole Milk         137905\n"
     ]
    }
   ],
   "source": [
    "query = \"\"\"\n",
    "SELECT p.product_name, COUNT(*) AS times_ordered\n",
    "FROM order_products_prior op\n",
    "JOIN products p ON op.product_id = p.product_id\n",
    "GROUP BY p.product_name\n",
    "ORDER BY times_ordered DESC\n",
    "LIMIT 10\n",
    "\"\"\"\n",
    "result = pd.read_sql_query(query, conn)\n",
    "print(result)\n",
    "# Understanding product-level demand drives inventory decisions."
   ]
  },
  {
   "cell_type": "markdown",
   "id": "8be0dfc0-86de-4755-ad75-094adcf51bfb",
   "metadata": {},
   "source": [
    "### Reorder Rate (Customer Loyalty Indicator)"
   ]
  },
  {
   "cell_type": "code",
   "execution_count": 31,
   "id": "f2be82fe-932f-410b-9239-6e0c606fb7ff",
   "metadata": {},
   "outputs": [
    {
     "name": "stdout",
     "output_type": "stream",
     "text": [
      "   reordered  total_orders\n",
      "0          0      13307953\n",
      "1          1      19126536\n"
     ]
    }
   ],
   "source": [
    "query = \"\"\"\n",
    "SELECT reordered, COUNT(*) AS total_orders\n",
    "FROM order_products_prior\n",
    "GROUP BY reordered\n",
    "\"\"\"\n",
    "result = pd.read_sql_query(query, conn)\n",
    "print(result)\n",
    "# High reorder rates suggest strong product stickiness.\n",
    "\n",
    "# Useful for marketing and retention teams."
   ]
  },
  {
   "cell_type": "markdown",
   "id": "6e9d61e9-6913-4750-a210-9a1b56aca9d7",
   "metadata": {},
   "source": [
    "### Average Basket Size per Order (Order Depth)"
   ]
  },
  {
   "cell_type": "code",
   "execution_count": 32,
   "id": "3cc0baeb-776c-444c-84f1-6dc108fc0461",
   "metadata": {},
   "outputs": [
    {
     "name": "stdout",
     "output_type": "stream",
     "text": [
      "   avg_basket_size\n",
      "0        10.088883\n"
     ]
    }
   ],
   "source": [
    "query = \"\"\"\n",
    "SELECT AVG(products_per_order) AS avg_basket_size\n",
    "FROM (\n",
    "    SELECT order_id, COUNT(*) AS products_per_order\n",
    "    FROM order_products_prior\n",
    "    GROUP BY order_id\n",
    ")\n",
    "\"\"\"\n",
    "result = pd.read_sql_query(query, conn)\n",
    "print(result)\n",
    "# Helps track sales performance and cross-selling opportunities."
   ]
  },
  {
   "cell_type": "code",
   "execution_count": null,
   "id": "e050a719-3cac-478a-8d64-f2994aa939d7",
   "metadata": {},
   "outputs": [],
   "source": []
  }
 ],
 "metadata": {
  "kernelspec": {
   "display_name": "Python 3 (ipykernel)",
   "language": "python",
   "name": "python3"
  },
  "language_info": {
   "codemirror_mode": {
    "name": "ipython",
    "version": 3
   },
   "file_extension": ".py",
   "mimetype": "text/x-python",
   "name": "python",
   "nbconvert_exporter": "python",
   "pygments_lexer": "ipython3",
   "version": "3.11.3"
  }
 },
 "nbformat": 4,
 "nbformat_minor": 5
}

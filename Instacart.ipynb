{
 "cells": [
  {
   "cell_type": "code",
   "execution_count": 242,
   "id": "54496330-50d2-407a-bcd3-04c940d6b8ad",
   "metadata": {},
   "outputs": [],
   "source": [
    "import pandas as pd\n",
    "import matplotlib.pyplot as plt\n"
   ]
  },
  {
   "cell_type": "code",
   "execution_count": 243,
   "id": "f0bf3143-6eba-4e2e-9627-cfe92d07ba22",
   "metadata": {
    "scrolled": true
   },
   "outputs": [
    {
     "data": {
      "text/html": [
       "<div>\n",
       "<style scoped>\n",
       "    .dataframe tbody tr th:only-of-type {\n",
       "        vertical-align: middle;\n",
       "    }\n",
       "\n",
       "    .dataframe tbody tr th {\n",
       "        vertical-align: top;\n",
       "    }\n",
       "\n",
       "    .dataframe thead th {\n",
       "        text-align: right;\n",
       "    }\n",
       "</style>\n",
       "<table border=\"1\" class=\"dataframe\">\n",
       "  <thead>\n",
       "    <tr style=\"text-align: right;\">\n",
       "      <th></th>\n",
       "      <th>order_id</th>\n",
       "      <th>user_id</th>\n",
       "      <th>eval_set</th>\n",
       "      <th>order_number</th>\n",
       "      <th>order_dow</th>\n",
       "      <th>order_hour_of_day</th>\n",
       "      <th>days_since_prior_order</th>\n",
       "    </tr>\n",
       "  </thead>\n",
       "  <tbody>\n",
       "    <tr>\n",
       "      <th>0</th>\n",
       "      <td>2539329</td>\n",
       "      <td>1</td>\n",
       "      <td>prior</td>\n",
       "      <td>1</td>\n",
       "      <td>2</td>\n",
       "      <td>8</td>\n",
       "      <td>NaN</td>\n",
       "    </tr>\n",
       "    <tr>\n",
       "      <th>1</th>\n",
       "      <td>2398795</td>\n",
       "      <td>1</td>\n",
       "      <td>prior</td>\n",
       "      <td>2</td>\n",
       "      <td>3</td>\n",
       "      <td>7</td>\n",
       "      <td>15.0</td>\n",
       "    </tr>\n",
       "    <tr>\n",
       "      <th>2</th>\n",
       "      <td>473747</td>\n",
       "      <td>1</td>\n",
       "      <td>prior</td>\n",
       "      <td>3</td>\n",
       "      <td>3</td>\n",
       "      <td>12</td>\n",
       "      <td>21.0</td>\n",
       "    </tr>\n",
       "    <tr>\n",
       "      <th>3</th>\n",
       "      <td>2254736</td>\n",
       "      <td>1</td>\n",
       "      <td>prior</td>\n",
       "      <td>4</td>\n",
       "      <td>4</td>\n",
       "      <td>7</td>\n",
       "      <td>29.0</td>\n",
       "    </tr>\n",
       "    <tr>\n",
       "      <th>4</th>\n",
       "      <td>431534</td>\n",
       "      <td>1</td>\n",
       "      <td>prior</td>\n",
       "      <td>5</td>\n",
       "      <td>4</td>\n",
       "      <td>15</td>\n",
       "      <td>28.0</td>\n",
       "    </tr>\n",
       "  </tbody>\n",
       "</table>\n",
       "</div>"
      ],
      "text/plain": [
       "   order_id  user_id eval_set  order_number  order_dow  order_hour_of_day  \\\n",
       "0   2539329        1    prior             1          2                  8   \n",
       "1   2398795        1    prior             2          3                  7   \n",
       "2    473747        1    prior             3          3                 12   \n",
       "3   2254736        1    prior             4          4                  7   \n",
       "4    431534        1    prior             5          4                 15   \n",
       "\n",
       "   days_since_prior_order  \n",
       "0                     NaN  \n",
       "1                    15.0  \n",
       "2                    21.0  \n",
       "3                    29.0  \n",
       "4                    28.0  "
      ]
     },
     "execution_count": 243,
     "metadata": {},
     "output_type": "execute_result"
    }
   ],
   "source": [
    "orders = pd.read_csv('orders.csv')\n",
    "\n",
    "# Showing the first 5 rows of data\n",
    "orders.head()"
   ]
  },
  {
   "cell_type": "markdown",
   "id": "ebde6897-abe2-4181-88f5-08bf9ef243ce",
   "metadata": {
    "scrolled": true
   },
   "source": [
    "# Understand the Data:"
   ]
  },
  {
   "cell_type": "code",
   "execution_count": 244,
   "id": "9efd7828-961d-4064-97ec-ba7f0abf12ad",
   "metadata": {},
   "outputs": [
    {
     "data": {
      "text/plain": [
       "Index(['order_id', 'user_id', 'eval_set', 'order_number', 'order_dow',\n",
       "       'order_hour_of_day', 'days_since_prior_order'],\n",
       "      dtype='object')"
      ]
     },
     "execution_count": 244,
     "metadata": {},
     "output_type": "execute_result"
    }
   ],
   "source": [
    "orders.columns\n"
   ]
  },
  {
   "cell_type": "code",
   "execution_count": 245,
   "id": "73242491-fd93-4503-a468-a19250175d83",
   "metadata": {
    "scrolled": true
   },
   "outputs": [
    {
     "name": "stdout",
     "output_type": "stream",
     "text": [
      "<class 'pandas.core.frame.DataFrame'>\n",
      "RangeIndex: 3421083 entries, 0 to 3421082\n",
      "Data columns (total 7 columns):\n",
      " #   Column                  Dtype  \n",
      "---  ------                  -----  \n",
      " 0   order_id                int64  \n",
      " 1   user_id                 int64  \n",
      " 2   eval_set                object \n",
      " 3   order_number            int64  \n",
      " 4   order_dow               int64  \n",
      " 5   order_hour_of_day       int64  \n",
      " 6   days_since_prior_order  float64\n",
      "dtypes: float64(1), int64(5), object(1)\n",
      "memory usage: 182.7+ MB\n"
     ]
    },
    {
     "data": {
      "text/html": [
       "<div>\n",
       "<style scoped>\n",
       "    .dataframe tbody tr th:only-of-type {\n",
       "        vertical-align: middle;\n",
       "    }\n",
       "\n",
       "    .dataframe tbody tr th {\n",
       "        vertical-align: top;\n",
       "    }\n",
       "\n",
       "    .dataframe thead th {\n",
       "        text-align: right;\n",
       "    }\n",
       "</style>\n",
       "<table border=\"1\" class=\"dataframe\">\n",
       "  <thead>\n",
       "    <tr style=\"text-align: right;\">\n",
       "      <th></th>\n",
       "      <th>order_id</th>\n",
       "      <th>user_id</th>\n",
       "      <th>order_number</th>\n",
       "      <th>order_dow</th>\n",
       "      <th>order_hour_of_day</th>\n",
       "      <th>days_since_prior_order</th>\n",
       "    </tr>\n",
       "  </thead>\n",
       "  <tbody>\n",
       "    <tr>\n",
       "      <th>count</th>\n",
       "      <td>3.421083e+06</td>\n",
       "      <td>3.421083e+06</td>\n",
       "      <td>3.421083e+06</td>\n",
       "      <td>3.421083e+06</td>\n",
       "      <td>3.421083e+06</td>\n",
       "      <td>3.214874e+06</td>\n",
       "    </tr>\n",
       "    <tr>\n",
       "      <th>mean</th>\n",
       "      <td>1.710542e+06</td>\n",
       "      <td>1.029782e+05</td>\n",
       "      <td>1.715486e+01</td>\n",
       "      <td>2.776219e+00</td>\n",
       "      <td>1.345202e+01</td>\n",
       "      <td>1.111484e+01</td>\n",
       "    </tr>\n",
       "    <tr>\n",
       "      <th>std</th>\n",
       "      <td>9.875817e+05</td>\n",
       "      <td>5.953372e+04</td>\n",
       "      <td>1.773316e+01</td>\n",
       "      <td>2.046829e+00</td>\n",
       "      <td>4.226088e+00</td>\n",
       "      <td>9.206737e+00</td>\n",
       "    </tr>\n",
       "    <tr>\n",
       "      <th>min</th>\n",
       "      <td>1.000000e+00</td>\n",
       "      <td>1.000000e+00</td>\n",
       "      <td>1.000000e+00</td>\n",
       "      <td>0.000000e+00</td>\n",
       "      <td>0.000000e+00</td>\n",
       "      <td>0.000000e+00</td>\n",
       "    </tr>\n",
       "    <tr>\n",
       "      <th>25%</th>\n",
       "      <td>8.552715e+05</td>\n",
       "      <td>5.139400e+04</td>\n",
       "      <td>5.000000e+00</td>\n",
       "      <td>1.000000e+00</td>\n",
       "      <td>1.000000e+01</td>\n",
       "      <td>4.000000e+00</td>\n",
       "    </tr>\n",
       "    <tr>\n",
       "      <th>50%</th>\n",
       "      <td>1.710542e+06</td>\n",
       "      <td>1.026890e+05</td>\n",
       "      <td>1.100000e+01</td>\n",
       "      <td>3.000000e+00</td>\n",
       "      <td>1.300000e+01</td>\n",
       "      <td>7.000000e+00</td>\n",
       "    </tr>\n",
       "    <tr>\n",
       "      <th>75%</th>\n",
       "      <td>2.565812e+06</td>\n",
       "      <td>1.543850e+05</td>\n",
       "      <td>2.300000e+01</td>\n",
       "      <td>5.000000e+00</td>\n",
       "      <td>1.600000e+01</td>\n",
       "      <td>1.500000e+01</td>\n",
       "    </tr>\n",
       "    <tr>\n",
       "      <th>max</th>\n",
       "      <td>3.421083e+06</td>\n",
       "      <td>2.062090e+05</td>\n",
       "      <td>1.000000e+02</td>\n",
       "      <td>6.000000e+00</td>\n",
       "      <td>2.300000e+01</td>\n",
       "      <td>3.000000e+01</td>\n",
       "    </tr>\n",
       "  </tbody>\n",
       "</table>\n",
       "</div>"
      ],
      "text/plain": [
       "           order_id       user_id  order_number     order_dow  \\\n",
       "count  3.421083e+06  3.421083e+06  3.421083e+06  3.421083e+06   \n",
       "mean   1.710542e+06  1.029782e+05  1.715486e+01  2.776219e+00   \n",
       "std    9.875817e+05  5.953372e+04  1.773316e+01  2.046829e+00   \n",
       "min    1.000000e+00  1.000000e+00  1.000000e+00  0.000000e+00   \n",
       "25%    8.552715e+05  5.139400e+04  5.000000e+00  1.000000e+00   \n",
       "50%    1.710542e+06  1.026890e+05  1.100000e+01  3.000000e+00   \n",
       "75%    2.565812e+06  1.543850e+05  2.300000e+01  5.000000e+00   \n",
       "max    3.421083e+06  2.062090e+05  1.000000e+02  6.000000e+00   \n",
       "\n",
       "       order_hour_of_day  days_since_prior_order  \n",
       "count       3.421083e+06            3.214874e+06  \n",
       "mean        1.345202e+01            1.111484e+01  \n",
       "std         4.226088e+00            9.206737e+00  \n",
       "min         0.000000e+00            0.000000e+00  \n",
       "25%         1.000000e+01            4.000000e+00  \n",
       "50%         1.300000e+01            7.000000e+00  \n",
       "75%         1.600000e+01            1.500000e+01  \n",
       "max         2.300000e+01            3.000000e+01  "
      ]
     },
     "execution_count": 245,
     "metadata": {},
     "output_type": "execute_result"
    }
   ],
   "source": [
    "orders.info()\n",
    "orders.describe()"
   ]
  },
  {
   "cell_type": "code",
   "execution_count": 246,
   "id": "ebdc99e8-dccc-42fe-9458-74ef0532619c",
   "metadata": {},
   "outputs": [],
   "source": [
    "# order_id\tUnique order identifier\n",
    "# user_id\tUnique user/customer ID\n",
    "# eval_set\tType of dataset: 'prior', 'train', or 'test'\n",
    "# order_number\tOrder sequence number for the user\n",
    "# order_dow\tDay of the week order was placed (0 = Sunday)\n",
    "# order_hour_of_day\tHour order was placed (24-hour clock)\n",
    "# days_since_prior_order\tDays between orders (NaN for first orders)"
   ]
  },
  {
   "cell_type": "code",
   "execution_count": 247,
   "id": "37405825-0cab-4c5d-832a-4bf71cdd0761",
   "metadata": {},
   "outputs": [
    {
     "data": {
      "text/plain": [
       "(3421083, 7)"
      ]
     },
     "execution_count": 247,
     "metadata": {},
     "output_type": "execute_result"
    }
   ],
   "source": [
    "orders.shape  # Rows, columns\n"
   ]
  },
  {
   "cell_type": "markdown",
   "id": "e58ebbab-6b0e-4487-94a2-93c5a97fb422",
   "metadata": {},
   "source": [
    "### Check for Null Values:\n"
   ]
  },
  {
   "cell_type": "code",
   "execution_count": 248,
   "id": "a6d65e9c-c4d8-4479-b35d-30b4534694c2",
   "metadata": {},
   "outputs": [
    {
     "data": {
      "text/plain": [
       "order_id                       0\n",
       "user_id                        0\n",
       "eval_set                       0\n",
       "order_number                   0\n",
       "order_dow                      0\n",
       "order_hour_of_day              0\n",
       "days_since_prior_order    206209\n",
       "dtype: int64"
      ]
     },
     "execution_count": 248,
     "metadata": {},
     "output_type": "execute_result"
    }
   ],
   "source": [
    "# See how many nulls per column\n",
    "orders.isnull().sum()"
   ]
  },
  {
   "cell_type": "code",
   "execution_count": 249,
   "id": "2a0bdf83-a347-4ec9-9fc6-9f94579dc0b3",
   "metadata": {},
   "outputs": [],
   "source": [
    "# NaNs in days_since_prior_order for a user's first order — that's normal."
   ]
  },
  {
   "cell_type": "markdown",
   "id": "713caf87-25fc-4d11-b55d-716c3a1f5ff6",
   "metadata": {},
   "source": [
    "### Check for Duplicates"
   ]
  },
  {
   "cell_type": "code",
   "execution_count": 250,
   "id": "0c8b114b-80e3-4016-87f4-01a29553850d",
   "metadata": {},
   "outputs": [
    {
     "data": {
      "text/plain": [
       "0"
      ]
     },
     "execution_count": 250,
     "metadata": {},
     "output_type": "execute_result"
    }
   ],
   "source": [
    "# Check for fully duplicated rows\n",
    "orders.duplicated().sum()"
   ]
  },
  {
   "cell_type": "markdown",
   "id": "0a5fbf0b-5984-4c4d-9543-cff06b9693d4",
   "metadata": {},
   "source": [
    "## Explore Initial Questions:"
   ]
  },
  {
   "cell_type": "markdown",
   "id": "a9d54063-0cbc-4507-84e2-ef29195df969",
   "metadata": {},
   "source": [
    "### How Many Orders Per Day of Week?"
   ]
  },
  {
   "cell_type": "code",
   "execution_count": 251,
   "id": "b21c37bf-b54b-4319-8e53-5d10407a5330",
   "metadata": {},
   "outputs": [
    {
     "data": {
      "text/plain": [
       "<Axes: xlabel='order_dow'>"
      ]
     },
     "execution_count": 251,
     "metadata": {},
     "output_type": "execute_result"
    },
    {
     "data": {
      "image/png": "[encoded data removed]",
      "text/plain": [
       "<Figure size 640x480 with 1 Axes>"
      ]
     },
     "metadata": {},
     "output_type": "display_data"
    }
   ],
   "source": [
    "# This shows customer activity by day (0 = Sunday, 6 = Saturday):\n",
    "\n",
    "orders['order_dow'].value_counts().sort_index().plot(kind='bar')\n"
   ]
  },
  {
   "cell_type": "markdown",
   "id": "2bff0c7b-0f8d-4f56-83b2-4c79d56f00d6",
   "metadata": {},
   "source": [
    "#### **Insight:**  \n",
    "The highest number of orders occurs on Sunday (`order_dow = 0`) and the lowest midweek, suggesting shopping behavior peaks at the start of the week.\n"
   ]
  },
  {
   "cell_type": "markdown",
   "id": "4ac89f47-f722-4432-aaf1-fdb6c36d1617",
   "metadata": {},
   "source": [
    "### Orders by Hour of Day (Peak Times):"
   ]
  },
  {
   "cell_type": "code",
   "execution_count": 252,
   "id": "050d5bed-90e1-4ea5-8769-d62403880728",
   "metadata": {},
   "outputs": [
    {
     "data": {
      "text/plain": [
       "<Axes: xlabel='order_hour_of_day'>"
      ]
     },
     "execution_count": 252,
     "metadata": {},
     "output_type": "execute_result"
    },
    {
     "data": {
      "image/png": "[encoded data removed]",
      "text/plain": [
       "<Figure size 640x480 with 1 Axes>"
      ]
     },
     "metadata": {},
     "output_type": "display_data"
    }
   ],
   "source": [
    "# Shows peak shopping hours.\n",
    "orders['order_hour_of_day'].value_counts().sort_index().plot(kind='bar')"
   ]
  },
  {
   "cell_type": "markdown",
   "id": "ea305ee8-02dd-4fee-ab68-e076953a2924",
   "metadata": {},
   "source": [
    "**Insight:**  \n",
    "Order activity peaks in the late morning and early evening, which may align with meal planning or daily routines.\n"
   ]
  },
  {
   "cell_type": "markdown",
   "id": "0120dd52-6378-4993-ae99-191382814ea2",
   "metadata": {},
   "source": [
    "### Frequency of Orders by User:\n"
   ]
  },
  {
   "cell_type": "code",
   "execution_count": 253,
   "id": "f68aa506-e54f-4d11-b3fb-b0c7da88fbd8",
   "metadata": {},
   "outputs": [
    {
     "data": {
      "image/png": "[encoded data removed]",
      "text/plain": [
       "<Figure size 1000x600 with 1 Axes>"
      ]
     },
     "metadata": {},
     "output_type": "display_data"
    }
   ],
   "source": [
    "orders['order_number'].hist(bins=30, figsize=(10,6))\n",
    "plt.title('Distribution of Total Orders per User')\n",
    "plt.xlabel('Order Number (Total Orders)')\n",
    "plt.ylabel('Count of Users')\n",
    "plt.show()\n"
   ]
  },
  {
   "cell_type": "code",
   "execution_count": 254,
   "id": "a7c28ad3-931a-4092-9c66-744d21567593",
   "metadata": {},
   "outputs": [],
   "source": [
    "### Time Between Orders (Days Since Prior Order)"
   ]
  },
  {
   "cell_type": "code",
   "execution_count": 255,
   "id": "9541ae80-e7f3-44c1-b64e-8f6a66104372",
   "metadata": {},
   "outputs": [],
   "source": [
    "#### How frequently are people reordering?"
   ]
  },
  {
   "cell_type": "code",
   "execution_count": 256,
   "id": "86b92a0b-80b2-4f52-ac79-6c05b5d2c025",
   "metadata": {},
   "outputs": [
    {
     "data": {
      "image/png": "[encoded data removed]",
      "text/plain": [
       "<Figure size 1000x600 with 1 Axes>"
      ]
     },
     "metadata": {},
     "output_type": "display_data"
    }
   ],
   "source": [
    "orders['days_since_prior_order'].hist(bins=30, figsize=(10,6))\n",
    "plt.title('Days Since Prior Order')\n",
    "plt.xlabel('Days')\n",
    "plt.ylabel('Number of Orders')\n",
    "plt.show()\n"
   ]
  },
  {
   "cell_type": "markdown",
   "id": "bab447ad-c6a8-4613-be9e-82e8fd496986",
   "metadata": {},
   "source": [
    "\n"
   ]
  },
  {
   "cell_type": "markdown",
   "id": "811dba05-7418-4d23-9b33-3bc3fa6de9b9",
   "metadata": {},
   "source": [
    "### Top Users by Number of Orders"
   ]
  },
  {
   "cell_type": "markdown",
   "id": "2383c54d-08f5-41c4-a61a-73b56ac5f0b4",
   "metadata": {},
   "source": [
    "#### Shows most active users — useful for understanding loyal customer segment.\n",
    "\n"
   ]
  },
  {
   "cell_type": "code",
   "execution_count": 257,
   "id": "53251300-20ae-4d49-91cf-ab29fbcfe19f",
   "metadata": {},
   "outputs": [
    {
     "data": {
      "text/plain": [
       "user_id\n",
       "152340    100\n",
       "185641    100\n",
       "185524    100\n",
       "81678     100\n",
       "70922     100\n",
       "136870    100\n",
       "81704     100\n",
       "119932    100\n",
       "119835    100\n",
       "91035     100\n",
       "Name: order_number, dtype: int64"
      ]
     },
     "execution_count": 257,
     "metadata": {},
     "output_type": "execute_result"
    }
   ],
   "source": [
    "orders.groupby('user_id')['order_number'].max().sort_values(ascending=False).head(10)\n"
   ]
  },
  {
   "cell_type": "markdown",
   "id": "5f649560-c6ed-45b7-9eb4-8fbc869dad01",
   "metadata": {},
   "source": []
  },
  {
   "cell_type": "markdown",
   "id": "85b11345-a096-4b53-8b81-e952af691033",
   "metadata": {},
   "source": [
    "### Looking at order_products and products datasets:"
   ]
  },
  {
   "cell_type": "code",
   "execution_count": 258,
   "id": "10c8a8af-3fa0-4af3-b8c5-1c27253edeaa",
   "metadata": {},
   "outputs": [
    {
     "data": {
      "text/html": [
       "<div>\n",
       "<style scoped>\n",
       "    .dataframe tbody tr th:only-of-type {\n",
       "        vertical-align: middle;\n",
       "    }\n",
       "\n",
       "    .dataframe tbody tr th {\n",
       "        vertical-align: top;\n",
       "    }\n",
       "\n",
       "    .dataframe thead th {\n",
       "        text-align: right;\n",
       "    }\n",
       "</style>\n",
       "<table border=\"1\" class=\"dataframe\">\n",
       "  <thead>\n",
       "    <tr style=\"text-align: right;\">\n",
       "      <th></th>\n",
       "      <th>order_id</th>\n",
       "      <th>product_id</th>\n",
       "      <th>add_to_cart_order</th>\n",
       "      <th>reordered</th>\n",
       "    </tr>\n",
       "  </thead>\n",
       "  <tbody>\n",
       "    <tr>\n",
       "      <th>0</th>\n",
       "      <td>2</td>\n",
       "      <td>33120</td>\n",
       "      <td>1</td>\n",
       "      <td>1</td>\n",
       "    </tr>\n",
       "    <tr>\n",
       "      <th>1</th>\n",
       "      <td>2</td>\n",
       "      <td>28985</td>\n",
       "      <td>2</td>\n",
       "      <td>1</td>\n",
       "    </tr>\n",
       "    <tr>\n",
       "      <th>2</th>\n",
       "      <td>2</td>\n",
       "      <td>9327</td>\n",
       "      <td>3</td>\n",
       "      <td>0</td>\n",
       "    </tr>\n",
       "    <tr>\n",
       "      <th>3</th>\n",
       "      <td>2</td>\n",
       "      <td>45918</td>\n",
       "      <td>4</td>\n",
       "      <td>1</td>\n",
       "    </tr>\n",
       "    <tr>\n",
       "      <th>4</th>\n",
       "      <td>2</td>\n",
       "      <td>30035</td>\n",
       "      <td>5</td>\n",
       "      <td>0</td>\n",
       "    </tr>\n",
       "  </tbody>\n",
       "</table>\n",
       "</div>"
      ],
      "text/plain": [
       "   order_id  product_id  add_to_cart_order  reordered\n",
       "0         2       33120                  1          1\n",
       "1         2       28985                  2          1\n",
       "2         2        9327                  3          0\n",
       "3         2       45918                  4          1\n",
       "4         2       30035                  5          0"
      ]
     },
     "execution_count": 258,
     "metadata": {},
     "output_type": "execute_result"
    }
   ],
   "source": [
    "order_products_prior = pd.read_csv('order_products__prior.csv')\n",
    "\n",
    "# Showing the first 5 rows of data\n",
    "order_products_prior.head()"
   ]
  },
  {
   "cell_type": "code",
   "execution_count": 259,
   "id": "e261f5de-dab0-4929-96c4-2cff8524de01",
   "metadata": {},
   "outputs": [
    {
     "data": {
      "text/plain": [
       "(32434489, 4)"
      ]
     },
     "execution_count": 259,
     "metadata": {},
     "output_type": "execute_result"
    }
   ],
   "source": [
    "order_products_prior.shape"
   ]
  },
  {
   "cell_type": "code",
   "execution_count": 260,
   "id": "e03eea51-888a-4e81-91f1-f477bb56e53a",
   "metadata": {},
   "outputs": [
    {
     "data": {
      "text/plain": [
       "Index(['order_id', 'product_id', 'add_to_cart_order', 'reordered'], dtype='object')"
      ]
     },
     "execution_count": 260,
     "metadata": {},
     "output_type": "execute_result"
    }
   ],
   "source": [
    "order_products_prior.columns"
   ]
  },
  {
   "cell_type": "code",
   "execution_count": 261,
   "id": "78c3d927-1bb1-4ef4-b25e-ebda983f0468",
   "metadata": {},
   "outputs": [
    {
     "name": "stdout",
     "output_type": "stream",
     "text": [
      "<class 'pandas.core.frame.DataFrame'>\n",
      "RangeIndex: 32434489 entries, 0 to 32434488\n",
      "Data columns (total 4 columns):\n",
      " #   Column             Dtype\n",
      "---  ------             -----\n",
      " 0   order_id           int64\n",
      " 1   product_id         int64\n",
      " 2   add_to_cart_order  int64\n",
      " 3   reordered          int64\n",
      "dtypes: int64(4)\n",
      "memory usage: 989.8 MB\n"
     ]
    },
    {
     "data": {
      "text/html": [
       "<div>\n",
       "<style scoped>\n",
       "    .dataframe tbody tr th:only-of-type {\n",
       "        vertical-align: middle;\n",
       "    }\n",
       "\n",
       "    .dataframe tbody tr th {\n",
       "        vertical-align: top;\n",
       "    }\n",
       "\n",
       "    .dataframe thead th {\n",
       "        text-align: right;\n",
       "    }\n",
       "</style>\n",
       "<table border=\"1\" class=\"dataframe\">\n",
       "  <thead>\n",
       "    <tr style=\"text-align: right;\">\n",
       "      <th></th>\n",
       "      <th>order_id</th>\n",
       "      <th>product_id</th>\n",
       "      <th>add_to_cart_order</th>\n",
       "      <th>reordered</th>\n",
       "    </tr>\n",
       "  </thead>\n",
       "  <tbody>\n",
       "    <tr>\n",
       "      <th>count</th>\n",
       "      <td>3.243449e+07</td>\n",
       "      <td>3.243449e+07</td>\n",
       "      <td>3.243449e+07</td>\n",
       "      <td>3.243449e+07</td>\n",
       "    </tr>\n",
       "    <tr>\n",
       "      <th>mean</th>\n",
       "      <td>1.710749e+06</td>\n",
       "      <td>2.557634e+04</td>\n",
       "      <td>8.351076e+00</td>\n",
       "      <td>5.896975e-01</td>\n",
       "    </tr>\n",
       "    <tr>\n",
       "      <th>std</th>\n",
       "      <td>9.873007e+05</td>\n",
       "      <td>1.409669e+04</td>\n",
       "      <td>7.126671e+00</td>\n",
       "      <td>4.918886e-01</td>\n",
       "    </tr>\n",
       "    <tr>\n",
       "      <th>min</th>\n",
       "      <td>2.000000e+00</td>\n",
       "      <td>1.000000e+00</td>\n",
       "      <td>1.000000e+00</td>\n",
       "      <td>0.000000e+00</td>\n",
       "    </tr>\n",
       "    <tr>\n",
       "      <th>25%</th>\n",
       "      <td>8.559430e+05</td>\n",
       "      <td>1.353000e+04</td>\n",
       "      <td>3.000000e+00</td>\n",
       "      <td>0.000000e+00</td>\n",
       "    </tr>\n",
       "    <tr>\n",
       "      <th>50%</th>\n",
       "      <td>1.711048e+06</td>\n",
       "      <td>2.525600e+04</td>\n",
       "      <td>6.000000e+00</td>\n",
       "      <td>1.000000e+00</td>\n",
       "    </tr>\n",
       "    <tr>\n",
       "      <th>75%</th>\n",
       "      <td>2.565514e+06</td>\n",
       "      <td>3.793500e+04</td>\n",
       "      <td>1.100000e+01</td>\n",
       "      <td>1.000000e+00</td>\n",
       "    </tr>\n",
       "    <tr>\n",
       "      <th>max</th>\n",
       "      <td>3.421083e+06</td>\n",
       "      <td>4.968800e+04</td>\n",
       "      <td>1.450000e+02</td>\n",
       "      <td>1.000000e+00</td>\n",
       "    </tr>\n",
       "  </tbody>\n",
       "</table>\n",
       "</div>"
      ],
      "text/plain": [
       "           order_id    product_id  add_to_cart_order     reordered\n",
       "count  3.243449e+07  3.243449e+07       3.243449e+07  3.243449e+07\n",
       "mean   1.710749e+06  2.557634e+04       8.351076e+00  5.896975e-01\n",
       "std    9.873007e+05  1.409669e+04       7.126671e+00  4.918886e-01\n",
       "min    2.000000e+00  1.000000e+00       1.000000e+00  0.000000e+00\n",
       "25%    8.559430e+05  1.353000e+04       3.000000e+00  0.000000e+00\n",
       "50%    1.711048e+06  2.525600e+04       6.000000e+00  1.000000e+00\n",
       "75%    2.565514e+06  3.793500e+04       1.100000e+01  1.000000e+00\n",
       "max    3.421083e+06  4.968800e+04       1.450000e+02  1.000000e+00"
      ]
     },
     "execution_count": 261,
     "metadata": {},
     "output_type": "execute_result"
    }
   ],
   "source": [
    "order_products_prior.info()\n",
    "order_products_prior.describe()"
   ]
  },
  {
   "cell_type": "code",
   "execution_count": 262,
   "id": "75639973-c364-40c4-a47b-f878ebf78a73",
   "metadata": {},
   "outputs": [
    {
     "data": {
      "text/plain": [
       "order_id             0\n",
       "product_id           0\n",
       "add_to_cart_order    0\n",
       "reordered            0\n",
       "dtype: int64"
      ]
     },
     "execution_count": 262,
     "metadata": {},
     "output_type": "execute_result"
    }
   ],
   "source": [
    "order_products_prior.isnull().sum()"
   ]
  },
  {
   "cell_type": "code",
   "execution_count": 263,
   "id": "d603fe89-dda3-4411-80c6-4b2fe9420a7b",
   "metadata": {},
   "outputs": [
    {
     "data": {
      "text/plain": [
       "0"
      ]
     },
     "execution_count": 263,
     "metadata": {},
     "output_type": "execute_result"
    }
   ],
   "source": [
    "order_products_prior.duplicated().sum()"
   ]
  },
  {
   "cell_type": "code",
   "execution_count": 264,
   "id": "46a5699c-c662-4529-bf33-59909e998760",
   "metadata": {},
   "outputs": [],
   "source": [
    "products = pd.read_csv('products.csv')\n"
   ]
  },
  {
   "cell_type": "code",
   "execution_count": 265,
   "id": "d57768d5-b7d0-4175-b6b7-d8bc8dd2eb5b",
   "metadata": {},
   "outputs": [
    {
     "data": {
      "text/plain": [
       "Index(['product_id', 'product_name', 'aisle_id', 'department_id'], dtype='object')"
      ]
     },
     "execution_count": 265,
     "metadata": {},
     "output_type": "execute_result"
    }
   ],
   "source": [
    "products.columns"
   ]
  },
  {
   "cell_type": "code",
   "execution_count": 266,
   "id": "6bfc33b2-4aac-47d1-8665-b9528804d704",
   "metadata": {},
   "outputs": [
    {
     "name": "stdout",
     "output_type": "stream",
     "text": [
      "<class 'pandas.core.frame.DataFrame'>\n",
      "RangeIndex: 49688 entries, 0 to 49687\n",
      "Data columns (total 4 columns):\n",
      " #   Column         Non-Null Count  Dtype \n",
      "---  ------         --------------  ----- \n",
      " 0   product_id     49688 non-null  int64 \n",
      " 1   product_name   49688 non-null  object\n",
      " 2   aisle_id       49688 non-null  int64 \n",
      " 3   department_id  49688 non-null  int64 \n",
      "dtypes: int64(3), object(1)\n",
      "memory usage: 1.5+ MB\n"
     ]
    },
    {
     "data": {
      "text/html": [
       "<div>\n",
       "<style scoped>\n",
       "    .dataframe tbody tr th:only-of-type {\n",
       "        vertical-align: middle;\n",
       "    }\n",
       "\n",
       "    .dataframe tbody tr th {\n",
       "        vertical-align: top;\n",
       "    }\n",
       "\n",
       "    .dataframe thead th {\n",
       "        text-align: right;\n",
       "    }\n",
       "</style>\n",
       "<table border=\"1\" class=\"dataframe\">\n",
       "  <thead>\n",
       "    <tr style=\"text-align: right;\">\n",
       "      <th></th>\n",
       "      <th>product_id</th>\n",
       "      <th>aisle_id</th>\n",
       "      <th>department_id</th>\n",
       "    </tr>\n",
       "  </thead>\n",
       "  <tbody>\n",
       "    <tr>\n",
       "      <th>count</th>\n",
       "      <td>49688.000000</td>\n",
       "      <td>49688.000000</td>\n",
       "      <td>49688.000000</td>\n",
       "    </tr>\n",
       "    <tr>\n",
       "      <th>mean</th>\n",
       "      <td>24844.500000</td>\n",
       "      <td>67.769582</td>\n",
       "      <td>11.728687</td>\n",
       "    </tr>\n",
       "    <tr>\n",
       "      <th>std</th>\n",
       "      <td>14343.834425</td>\n",
       "      <td>38.316162</td>\n",
       "      <td>5.850410</td>\n",
       "    </tr>\n",
       "    <tr>\n",
       "      <th>min</th>\n",
       "      <td>1.000000</td>\n",
       "      <td>1.000000</td>\n",
       "      <td>1.000000</td>\n",
       "    </tr>\n",
       "    <tr>\n",
       "      <th>25%</th>\n",
       "      <td>12422.750000</td>\n",
       "      <td>35.000000</td>\n",
       "      <td>7.000000</td>\n",
       "    </tr>\n",
       "    <tr>\n",
       "      <th>50%</th>\n",
       "      <td>24844.500000</td>\n",
       "      <td>69.000000</td>\n",
       "      <td>13.000000</td>\n",
       "    </tr>\n",
       "    <tr>\n",
       "      <th>75%</th>\n",
       "      <td>37266.250000</td>\n",
       "      <td>100.000000</td>\n",
       "      <td>17.000000</td>\n",
       "    </tr>\n",
       "    <tr>\n",
       "      <th>max</th>\n",
       "      <td>49688.000000</td>\n",
       "      <td>134.000000</td>\n",
       "      <td>21.000000</td>\n",
       "    </tr>\n",
       "  </tbody>\n",
       "</table>\n",
       "</div>"
      ],
      "text/plain": [
       "         product_id      aisle_id  department_id\n",
       "count  49688.000000  49688.000000   49688.000000\n",
       "mean   24844.500000     67.769582      11.728687\n",
       "std    14343.834425     38.316162       5.850410\n",
       "min        1.000000      1.000000       1.000000\n",
       "25%    12422.750000     35.000000       7.000000\n",
       "50%    24844.500000     69.000000      13.000000\n",
       "75%    37266.250000    100.000000      17.000000\n",
       "max    49688.000000    134.000000      21.000000"
      ]
     },
     "execution_count": 266,
     "metadata": {},
     "output_type": "execute_result"
    }
   ],
   "source": [
    "products.info()\n",
    "products.describe()"
   ]
  },
  {
   "cell_type": "code",
   "execution_count": 267,
   "id": "8b99b800-8160-4fda-9025-1feb622cea88",
   "metadata": {},
   "outputs": [
    {
     "data": {
      "text/plain": [
       "(49688, 4)"
      ]
     },
     "execution_count": 267,
     "metadata": {},
     "output_type": "execute_result"
    }
   ],
   "source": [
    "products.shape"
   ]
  },
  {
   "cell_type": "code",
   "execution_count": 268,
   "id": "1fe5082e-5fae-458b-8f04-bc5665991420",
   "metadata": {},
   "outputs": [
    {
     "data": {
      "text/plain": [
       "product_id       0\n",
       "product_name     0\n",
       "aisle_id         0\n",
       "department_id    0\n",
       "dtype: int64"
      ]
     },
     "execution_count": 268,
     "metadata": {},
     "output_type": "execute_result"
    }
   ],
   "source": [
    "products.isnull().sum()"
   ]
  },
  {
   "cell_type": "code",
   "execution_count": 269,
   "id": "34f94ae5-e8aa-44fb-acd9-69d0b329751a",
   "metadata": {},
   "outputs": [
    {
     "data": {
      "text/plain": [
       "0"
      ]
     },
     "execution_count": 269,
     "metadata": {},
     "output_type": "execute_result"
    }
   ],
   "source": [
    "products.duplicated().sum()"
   ]
  },
  {
   "cell_type": "markdown",
   "id": "268c3068-765f-42dd-bfed-9aa0b3292078",
   "metadata": {},
   "source": [
    "### Merge Order Products with Products Data "
   ]
  },
  {
   "cell_type": "code",
   "execution_count": null,
   "id": "00965ea7-b202-4899-8939-d86a55da2624",
   "metadata": {},
   "outputs": [],
   "source": [
    "\n",
    "merged = pd.merge(order_products_prior, products, on='product_id', how='left')\n",
    "merged.head()\n",
    "\n"
   ]
  },
  {
   "cell_type": "markdown",
   "id": "64d0b2a7-0a54-45b9-befb-cca89a76c6a7",
   "metadata": {},
   "source": [
    "### Top Selling Products\n"
   ]
  },
  {
   "cell_type": "code",
   "execution_count": null,
   "id": "992a1224-8ebe-460f-b83c-9dde4cefeeb3",
   "metadata": {},
   "outputs": [],
   "source": [
    "top_products = merged['product_name'].value_counts().head(10)\n",
    "print(top_products)"
   ]
  },
  {
   "cell_type": "markdown",
   "id": "b42d4bae-6d01-4ebe-b4d6-3e39e673710c",
   "metadata": {},
   "source": [
    "### Visualize Top Products"
   ]
  },
  {
   "cell_type": "code",
   "execution_count": null,
   "id": "39efa922-3b12-4e47-8440-03b7e1ff9394",
   "metadata": {
    "scrolled": true
   },
   "outputs": [],
   "source": [
    "top_products.plot(kind='barh', figsize=(8,6))\n",
    "plt.title('Top 10 Most Frequently Purchased Products')\n",
    "plt.xlabel('Number of Orders')\n",
    "plt.gca().invert_yaxis()\n",
    "plt.show()"
   ]
  },
  {
   "cell_type": "markdown",
   "id": "c1c4f058-417c-4b22-b0f1-a01b7e50d8f4",
   "metadata": {},
   "source": [
    "**Insight**\n",
    "Bananas are the most purchased item, suggesting high demand for fresh produce. Retailers could target promotions or loyalty offers around these high-frequency products."
   ]
  },
  {
   "cell_type": "markdown",
   "id": "62895f14-e871-44a4-9aa5-cfcea222d2bb",
   "metadata": {},
   "source": [
    "### Reorder Ratio by Product"
   ]
  },
  {
   "cell_type": "code",
   "execution_count": null,
   "id": "741fc648-9252-4b4d-b3ac-414aa239ae8e",
   "metadata": {
    "scrolled": true
   },
   "outputs": [],
   "source": [
    "reorder_rate = merged.groupby('product_name')['reordered'].mean().sort_values(ascending=False).head(10)\n",
    "print(reorder_rate)"
   ]
  },
  {
   "cell_type": "markdown",
   "id": "52d1617a-96c3-468e-8d80-661d3e169787",
   "metadata": {},
   "source": [
    "**Insight**\n",
    "Products like 'Raw Veggie Wrappers', 'Chocolte Love bar' and a energy shots have reorder rates over 90%, indicating strong customer loyalty and reliance on certain core items."
   ]
  },
  {
   "cell_type": "markdown",
   "id": "6233ebd7-f23e-44c2-af43-c27002d0ff12",
   "metadata": {},
   "source": [
    "### Compare Reorder Rates Between Product Categories"
   ]
  },
  {
   "cell_type": "code",
   "execution_count": null,
   "id": "533a6021-5347-4fbc-827d-1c6d3bfb1b88",
   "metadata": {},
   "outputs": [],
   "source": [
    "departments = pd.read_csv('departments.csv')\n",
    "aisles = pd.read_csv('aisles.csv')"
   ]
  },
  {
   "cell_type": "code",
   "execution_count": null,
   "id": "69da9f2f-11ff-4c8b-813b-98cce0b27b06",
   "metadata": {},
   "outputs": [],
   "source": [
    "# Merge products with department and aisle info\n",
    "products_full = products.merge(departments, on='department_id', how='left')\n",
    "products_full = products_full.merge(aisles, on='aisle_id', how='left')\n",
    "\n",
    "# Merge with orders data\n",
    "merged_full = merged.merge(products_full[['product_id', 'department', 'aisle']], on='product_id', how='left')\n"
   ]
  },
  {
   "cell_type": "code",
   "execution_count": null,
   "id": "2f66dd3d-857f-4b4d-95ee-548649c7102c",
   "metadata": {},
   "outputs": [],
   "source": [
    "# Group by department to see reorder rates:\n",
    "\n",
    "dept_reorder = merged_full.groupby('department')['reordered'].mean().sort_values(ascending=False)\n",
    "print(dept_reorder)\n",
    "\n"
   ]
  },
  {
   "cell_type": "code",
   "execution_count": null,
   "id": "9a6be2b7-d6a1-44e8-a869-ee92dc85072c",
   "metadata": {},
   "outputs": [],
   "source": [
    "# Visualization:"
   ]
  },
  {
   "cell_type": "code",
   "execution_count": null,
   "id": "2a87f6eb-0c76-4260-8b53-a06034e11d99",
   "metadata": {},
   "outputs": [],
   "source": [
    "import matplotlib.pyplot as plt\n",
    "\n",
    "dept_reorder.plot(kind='barh', figsize=(10,7), color='orange')\n",
    "plt.title('Reorder Rates by Department')\n",
    "plt.xlabel('Reorder Rate')\n",
    "plt.ylabel('Department')\n",
    "plt.gca().invert_yaxis()\n",
    "plt.show()\n"
   ]
  },
  {
   "cell_type": "code",
   "execution_count": null,
   "id": "30c6751e-f15d-43ed-b84c-fb4bdb4424f8",
   "metadata": {},
   "outputs": [],
   "source": [
    "### Find Products with High Sales but Low Reorders (Possible Quality Concerns)"
   ]
  },
  {
   "cell_type": "code",
   "execution_count": null,
   "id": "b2210adf-326a-477c-9b72-b718d0bc1e73",
   "metadata": {},
   "outputs": [],
   "source": [
    "product_orders = merged.groupby('product_name').agg({\n",
    "    'reordered': ['mean', 'count']\n",
    "})\n",
    "\n",
    "product_orders.columns = ['reorder_rate', 'total_orders']\n",
    "product_orders = product_orders.sort_values(by='total_orders', ascending=False)\n",
    "\n",
    "# Filter: High sales, low reorder rate\n",
    "high_sales_low_reorder = product_orders[\n",
    "    (product_orders['total_orders'] > 500) & (product_orders['reorder_rate'] < 0.2)\n",
    "]\n",
    "\n",
    "print(high_sales_low_reorder.head(10))\n"
   ]
  },
  {
   "cell_type": "markdown",
   "id": "7797b177-dc8f-4385-83ce-2ad6af717507",
   "metadata": {},
   "source": [
    "**Insight**\n",
    "These are products that sell well initially but customers often don't reorder — could indicate product dissatisfaction, quality concerns, or one-time purchases.\n",
    "\n"
   ]
  },
  {
   "cell_type": "markdown",
   "id": "b9b0b497-d272-4e16-8bd8-32daa8348dd3",
   "metadata": {},
   "source": [
    "### Analyze Reorder Patterns by Time of Day or Day of Week"
   ]
  },
  {
   "cell_type": "code",
   "execution_count": null,
   "id": "28698ebd-7ed9-493c-9602-06a0f25641ff",
   "metadata": {},
   "outputs": [],
   "source": [
    "orders = pd.read_csv('orders.csv')\n",
    "\n",
    "# Merge order details into main dataset\n",
    "merged_full = merged_full.merge(orders[['order_id', 'order_hour_of_day', 'order_dow']], on='order_id', how='left')\n"
   ]
  },
  {
   "cell_type": "code",
   "execution_count": null,
   "id": "526250d6-7438-4738-9f0a-6d072e80d2f3",
   "metadata": {},
   "outputs": [],
   "source": [
    "#  Reorder rates by hour of day:\n",
    "reorder_by_hour = merged_full.groupby('order_hour_of_day')['reordered'].mean()\n",
    "\n",
    "reorder_by_hour.plot(kind='line', marker='o', figsize=(10,6))\n",
    "plt.title('Reorder Rate by Hour of Day')\n",
    "plt.xlabel('Hour of Day')\n",
    "plt.ylabel('Reorder Rate')\n",
    "plt.grid()\n",
    "plt.show()\n"
   ]
  },
  {
   "cell_type": "code",
   "execution_count": null,
   "id": "28e0682b-6f23-4bb5-ba63-0359dcbf7264",
   "metadata": {},
   "outputs": [],
   "source": [
    "# Reorder rates by day of week:\n",
    "reorder_by_dow = merged_full.groupby('order_dow')['reordered'].mean()\n",
    "\n",
    "reorder_by_dow.plot(kind='bar', color='green', figsize=(8,6))\n",
    "plt.title('Reorder Rate by Day of Week')\n",
    "plt.xlabel('Day of Week (0=Sunday)')\n",
    "plt.ylabel('Reorder Rate')\n",
    "plt.show()\n"
   ]
  }
 ],
 "metadata": {
  "kernelspec": {
   "display_name": "Python 3 (ipykernel)",
   "language": "python",
   "name": "python3"
  },
  "language_info": {
   "codemirror_mode": {
    "name": "ipython",
    "version": 3
   },
   "file_extension": ".py",
   "mimetype": "text/x-python",
   "name": "python",
   "nbconvert_exporter": "python",
   "pygments_lexer": "ipython3",
   "version": "3.11.3"
  }
 },
 "nbformat": 4,
 "nbformat_minor": 5
}
